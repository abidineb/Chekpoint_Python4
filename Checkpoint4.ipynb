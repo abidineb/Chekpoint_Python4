{
 "cells": [
  {
   "cell_type": "markdown",
   "id": "5de83a88",
   "metadata": {},
   "source": [
    "# Logistic Regression"
   ]
  },
  {
   "cell_type": "markdown",
   "id": "c978e7b9",
   "metadata": {},
   "source": [
    "Checkpoint -----> [ABIDINE M'hamed Bilal] \n",
    "In this checkpoint, we worked again on the Titanic data set, but this time we will use logistic regression to predict Discrete values if a passenger will survive or not. "
   ]
  },
  {
   "cell_type": "markdown",
   "id": "75fd1542",
   "metadata": {},
   "source": [
    "# Getting the train data"
   ]
  },
  {
   "cell_type": "code",
   "execution_count": 6,
   "id": "f2c54cfe",
   "metadata": {},
   "outputs": [],
   "source": [
    "# survival:    Survival \n",
    "# PassengerId: Unique Id of a passenger. \n",
    "# pclass:    Ticket class     \n",
    "# sex:    Sex     \n",
    "# Age:    Age in years     \n",
    "# sibsp:    # of siblings / spouses aboard the Titanic     \n",
    "# parch:    # of parents / children aboard the Titanic     \n",
    "# ticket:    Ticket number     \n",
    "# fare:    Passenger fare     \n",
    "# cabin:    Cabin number     \n",
    "# embarked:    Port of Embarkation\n",
    "\n",
    "\n",
    "# importing  packages\n",
    "import pandas as pd\n",
    "import seaborn as sns;\n",
    "from sklearn.preprocessing import LabelEncoder\n",
    "\n",
    "# making data frame from csv file \n",
    "df=pd.read_csv('titanic-passengers.csv', sep=';')\n"
   ]
  },
  {
   "cell_type": "code",
   "execution_count": 7,
   "id": "e30f417c",
   "metadata": {},
   "outputs": [
    {
     "name": "stdout",
     "output_type": "stream",
     "text": [
      "The number of samples into the dataset is 891.\n"
     ]
    }
   ],
   "source": [
    "# The number of samples into the train data is 891.\n",
    "print('The number of samples into the dataset is {}.'.format(df.shape[0]))"
   ]
  },
  {
   "cell_type": "markdown",
   "id": "590e9e33",
   "metadata": {},
   "source": [
    "# Data processing"
   ]
  },
  {
   "cell_type": "code",
   "execution_count": 8,
   "id": "af48c3af",
   "metadata": {},
   "outputs": [
    {
     "data": {
      "text/html": [
       "<div>\n",
       "<style scoped>\n",
       "    .dataframe tbody tr th:only-of-type {\n",
       "        vertical-align: middle;\n",
       "    }\n",
       "\n",
       "    .dataframe tbody tr th {\n",
       "        vertical-align: top;\n",
       "    }\n",
       "\n",
       "    .dataframe thead th {\n",
       "        text-align: right;\n",
       "    }\n",
       "</style>\n",
       "<table border=\"1\" class=\"dataframe\">\n",
       "  <thead>\n",
       "    <tr style=\"text-align: right;\">\n",
       "      <th></th>\n",
       "      <th>Survived</th>\n",
       "      <th>Pclass</th>\n",
       "      <th>Sex</th>\n",
       "      <th>Age</th>\n",
       "      <th>SibSp</th>\n",
       "      <th>Parch</th>\n",
       "      <th>Fare</th>\n",
       "    </tr>\n",
       "  </thead>\n",
       "  <tbody>\n",
       "    <tr>\n",
       "      <th>0</th>\n",
       "      <td>0</td>\n",
       "      <td>2</td>\n",
       "      <td>1</td>\n",
       "      <td>28.0</td>\n",
       "      <td>0</td>\n",
       "      <td>0</td>\n",
       "      <td>13.0000</td>\n",
       "    </tr>\n",
       "    <tr>\n",
       "      <th>1</th>\n",
       "      <td>0</td>\n",
       "      <td>3</td>\n",
       "      <td>1</td>\n",
       "      <td>25.0</td>\n",
       "      <td>0</td>\n",
       "      <td>0</td>\n",
       "      <td>7.6500</td>\n",
       "    </tr>\n",
       "    <tr>\n",
       "      <th>2</th>\n",
       "      <td>0</td>\n",
       "      <td>3</td>\n",
       "      <td>1</td>\n",
       "      <td>20.0</td>\n",
       "      <td>0</td>\n",
       "      <td>0</td>\n",
       "      <td>7.8542</td>\n",
       "    </tr>\n",
       "    <tr>\n",
       "      <th>3</th>\n",
       "      <td>0</td>\n",
       "      <td>3</td>\n",
       "      <td>0</td>\n",
       "      <td>29.0</td>\n",
       "      <td>0</td>\n",
       "      <td>4</td>\n",
       "      <td>21.0750</td>\n",
       "    </tr>\n",
       "    <tr>\n",
       "      <th>4</th>\n",
       "      <td>0</td>\n",
       "      <td>1</td>\n",
       "      <td>1</td>\n",
       "      <td>31.0</td>\n",
       "      <td>1</td>\n",
       "      <td>0</td>\n",
       "      <td>52.0000</td>\n",
       "    </tr>\n",
       "  </tbody>\n",
       "</table>\n",
       "</div>"
      ],
      "text/plain": [
       "   Survived  Pclass  Sex   Age  SibSp  Parch     Fare\n",
       "0         0       2    1  28.0      0      0  13.0000\n",
       "1         0       3    1  25.0      0      0   7.6500\n",
       "2         0       3    1  20.0      0      0   7.8542\n",
       "3         0       3    0  29.0      0      4  21.0750\n",
       "4         0       1    1  31.0      1      0  52.0000"
      ]
     },
     "execution_count": 8,
     "metadata": {},
     "output_type": "execute_result"
    }
   ],
   "source": [
    "df['Age'] = df['Age'].fillna((df['Age'].median()))\n",
    "df[\"Embarked\"].fillna(\"S\", inplace=True)\n",
    "# We remove some columns that we are not going to use for our model.\n",
    "df.drop(['PassengerId', 'Embarked','Name','Ticket','Cabin'],axis=1,inplace=True)\n",
    "\n",
    "encoder = LabelEncoder()\n",
    "df['Survived'] = encoder.fit_transform(df['Survived'])\n",
    "df['Sex'] = encoder.fit_transform(df['Sex'])\n",
    "df.head()\n"
   ]
  },
  {
   "cell_type": "markdown",
   "id": "49aed5ab",
   "metadata": {},
   "source": [
    "# Train and build Classifier"
   ]
  },
  {
   "cell_type": "markdown",
   "id": "567249ca",
   "metadata": {},
   "source": [
    "Now our dataset is ready for the model.\n",
    "X will contain all the features and y will contain the target variable"
   ]
  },
  {
   "cell_type": "code",
   "execution_count": 9,
   "id": "92bc2054",
   "metadata": {},
   "outputs": [],
   "source": [
    "# We will use train_test_split from cross_validation module to split our data. \n",
    "# 70% of the data will be training data and %30 will be testing data.\n",
    "#from sklearn.cross_validation import train_test_split\n",
    "from sklearn.model_selection import train_test_split\n",
    "# X will contain all the features and y will contain the target variable\n",
    "# # create X (features) and y (response)\n",
    "train=df\n",
    "X = train.drop(\"Survived\",axis=1)\n",
    "y = train[\"Survived\"]\n",
    "X_train, X_test, y_train, y_test = train_test_split(X, y, test_size=0.3, random_state=101)                                            "
   ]
  },
  {
   "cell_type": "code",
   "execution_count": 15,
   "id": "51589a14",
   "metadata": {},
   "outputs": [
    {
     "data": {
      "text/plain": [
       "LogisticRegression()"
      ]
     },
     "execution_count": 15,
     "metadata": {},
     "output_type": "execute_result"
    }
   ],
   "source": [
    "# Let’s use Logistic Regression to train the model\n",
    "from sklearn.linear_model import LogisticRegression\n",
    "logmodel = LogisticRegression()\n",
    "logmodel.fit(X_train,y_train)"
   ]
  },
  {
   "cell_type": "markdown",
   "id": "d31b3f4c",
   "metadata": {},
   "source": [
    "# Classification Report"
   ]
  },
  {
   "cell_type": "code",
   "execution_count": 16,
   "id": "7f5a4cdb",
   "metadata": {},
   "outputs": [
    {
     "name": "stdout",
     "output_type": "stream",
     "text": [
      "Classification Report: \n",
      "              precision    recall  f1-score   support\n",
      "\n",
      "           0       0.81      0.86      0.84       158\n",
      "           1       0.78      0.72      0.75       110\n",
      "\n",
      "    accuracy                           0.80       268\n",
      "   macro avg       0.80      0.79      0.79       268\n",
      "weighted avg       0.80      0.80      0.80       268\n",
      "\n"
     ]
    }
   ],
   "source": [
    "# Let’s see how accurate is our model for predictions\n",
    "# In the above report, we have Precision, Recall, F1-Score for both 0 & 1 classes separately.\n",
    "# his is a summary of metrics for each class.\n",
    "\n",
    "predictions = logmodel.predict(X_test)\n",
    "\n",
    "from sklearn.metrics import classification_report\n",
    "print(\"Classification Report: \")\n",
    "print(classification_report(y_test, predictions))"
   ]
  },
  {
   "cell_type": "markdown",
   "id": "1cb1516d",
   "metadata": {},
   "source": [
    "We got 80% accuraccy, not bad. Let’s see the confusion matrix"
   ]
  },
  {
   "cell_type": "markdown",
   "id": "868d6dfa",
   "metadata": {},
   "source": [
    "# Confusion Matrix to validate the model"
   ]
  },
  {
   "cell_type": "markdown",
   "id": "d8f29c34",
   "metadata": {},
   "source": [
    "The predictions of our classification model will fall under any of this below categories:\n",
    "· True Positive TP: Actual Value is Positive; Predicted values is Positive\n",
    "· True Negative TN: Actual value is Negative; Predicted value is Negative\n",
    "· False Positive FP: Actual value is Negative; But the model gives Positive which is a wrong prediction.\n",
    "· False Negative FN: Actual value is Positive; But the model gives Negative which is a wrong prediction."
   ]
  },
  {
   "cell_type": "code",
   "execution_count": 12,
   "id": "c0e24c02",
   "metadata": {},
   "outputs": [
    {
     "data": {
      "text/plain": [
       "array([[136,  22],\n",
       "       [ 31,  79]], dtype=int64)"
      ]
     },
     "execution_count": 12,
     "metadata": {},
     "output_type": "execute_result"
    }
   ],
   "source": [
    "# from sklearn.metrics import confusion_matrix\n",
    "from sklearn.metrics import confusion_matrix, precision_recall_curve, roc_curve, auc, log_loss\n",
    "\n",
    "confusion_matrix(y_test, predictions)"
   ]
  },
  {
   "cell_type": "markdown",
   "id": "7cc6b0c6",
   "metadata": {},
   "source": [
    "True positive: 136 (We predicted a positive result and it was positive)\n",
    "True negative: 79 (We predicted a negative result and it was negative)\n",
    "False positive: 22 (We predicted a positive result and it was negative)\n",
    "False negative: 31 (We predicted a negative result and it was positive)"
   ]
  },
  {
   "cell_type": "markdown",
   "id": "8ecc20d8",
   "metadata": {},
   "source": [
    "# Classification Accuracy"
   ]
  },
  {
   "cell_type": "code",
   "execution_count": 17,
   "id": "f3bc5a97",
   "metadata": {},
   "outputs": [
    {
     "data": {
      "text/plain": [
       "0.7993579454253612"
      ]
     },
     "execution_count": 17,
     "metadata": {},
     "output_type": "execute_result"
    }
   ],
   "source": [
    "# Accuracy of training-set\n",
    "logmodel.score(X_train,y_train)"
   ]
  },
  {
   "cell_type": "code",
   "execution_count": 22,
   "id": "ad1aff6d",
   "metadata": {},
   "outputs": [
    {
     "name": "stdout",
     "output_type": "stream",
     "text": [
      "0.8022388059701493\n"
     ]
    }
   ],
   "source": [
    "from sklearn.metrics import accuracy_score, classification_report, confusion_matrix,roc_auc_score\n",
    "\n",
    "# Accuracy of test-set\n",
    "# This metric measures the ratio of correct predictions over the total number of predictions.\n",
    "# For Higher accuracy, the model gives best.\n",
    "print(accuracy_score(y_test,predictions))"
   ]
  },
  {
   "cell_type": "code",
   "execution_count": 21,
   "id": "b09049af",
   "metadata": {},
   "outputs": [
    {
     "data": {
      "text/plain": [
       "0.8022388059701493"
      ]
     },
     "execution_count": 21,
     "metadata": {},
     "output_type": "execute_result"
    }
   ],
   "source": [
    "# Accuracy of test-set\n",
    "logmodel.score(X_test,y_test)"
   ]
  },
  {
   "cell_type": "markdown",
   "id": "eb758e02",
   "metadata": {},
   "source": [
    "# ROC Curve & AUC Score"
   ]
  },
  {
   "cell_type": "markdown",
   "id": "e6029a85",
   "metadata": {},
   "source": [
    "Another validation matrix for classification is ROC/AUC, we explain them, and apply them in our case (Logistic Regression)."
   ]
  },
  {
   "cell_type": "markdown",
   "id": "4534bc1a",
   "metadata": {},
   "source": [
    "Recall/Sensitivity/True Positive Rate:\n",
    "Sensitivity describes how good a model at predicting positive classes.\n",
    "TPR = TP/P = TP / (TP + FN)\n",
    "Specificity/Selectivity/True Negative Rate:\n",
    "Specificity describes how good a model at predicting positive classes.\n",
    "TNR = TN/N = TN / (TN+ FP)\n",
    "\n",
    "ROC Curve:\n",
    "ROC (Receiver Operating Characteristic) curve is a visualization of false positive rate (x-axis) and the true positive rate (y-axis).\n",
    "Even though we have the Sensitivity rate to find the goodness in predicting positive results, ROC curve gives a visualization to understand better. Each point on the ROC curve represents a sensitivity/specificity pair.\n",
    "The Blue dashed line is the random classifier i.e. 50% of chance for each class which is worthless.\n",
    "\n",
    "The closer the curve follows the left side border and the top border, the more accurate the test.\n",
    "The closer the curve is to the 45-degree diagonal, the less accurate the test.\n",
    "If the curve, goes high to reach the top left corner then the curve will cover more area under it. This area is calculated and denoted as AUC (Area Under ROC Curve) score or AUROC score.\n",
    "If the AUC score is 0.5 then the curve is nothing but the random selection.\n",
    "If the AUC score is 1 then all the area is correct predictions. i.e. Perfect model.\n",
    "Higher the AUC score, better the model.\n"
   ]
  },
  {
   "cell_type": "code",
   "execution_count": 23,
   "id": "aa2dabcd",
   "metadata": {},
   "outputs": [
    {
     "name": "stdout",
     "output_type": "stream",
     "text": [
      "AUC Score: 0.87\n"
     ]
    },
    {
     "data": {
      "image/png": "[encoded data removed]",
      "text/plain": [
       "<Figure size 432x288 with 1 Axes>"
      ]
     },
     "metadata": {
      "needs_background": "light"
     },
     "output_type": "display_data"
    }
   ],
   "source": [
    "import matplotlib.pyplot as plt\n",
    "\n",
    "pred_prob = logmodel.predict_proba(X_test)\n",
    "probs = pred_prob[:, 1]\n",
    "\n",
    "auc = roc_auc_score(y_test, probs)\n",
    "print('AUC Score: %.2f' % auc)\n",
    "\n",
    "fpr, tpr, thresholds = roc_curve(y_test, probs)\n",
    "plt.plot(fpr, tpr, color='orange', label='ROC')\n",
    "plt.plot([0, 1], [0, 1], color='darkblue', linestyle='--')\n",
    "plt.xlabel('False Positive Rate')\n",
    "plt.ylabel('True Positive Rate')\n",
    "plt.title('Receiver Operating Characteristic (ROC) Curve')\n",
    "plt.legend()\n",
    "plt.show()"
   ]
  }
 ],
 "metadata": {
  "kernelspec": {
   "display_name": "Python 3",
   "language": "python",
   "name": "python3"
  },
  "language_info": {
   "codemirror_mode": {
    "name": "ipython",
    "version": 3
   },
   "file_extension": ".py",
   "mimetype": "text/x-python",
   "name": "python",
   "nbconvert_exporter": "python",
   "pygments_lexer": "ipython3",
   "version": "3.8.8"
  }
 },
 "nbformat": 4,
 "nbformat_minor": 5
}
